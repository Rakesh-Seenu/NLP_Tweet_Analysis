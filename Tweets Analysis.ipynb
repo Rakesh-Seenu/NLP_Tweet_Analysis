{
 "cells": [
  {
   "cell_type": "code",
   "execution_count": 2,
   "metadata": {},
   "outputs": [],
   "source": [
    "import pandas as pd"
   ]
  },
  {
   "cell_type": "code",
   "execution_count": 3,
   "metadata": {},
   "outputs": [
    {
     "data": {
      "text/html": [
       "<div>\n",
       "<style scoped>\n",
       "    .dataframe tbody tr th:only-of-type {\n",
       "        vertical-align: middle;\n",
       "    }\n",
       "\n",
       "    .dataframe tbody tr th {\n",
       "        vertical-align: top;\n",
       "    }\n",
       "\n",
       "    .dataframe thead th {\n",
       "        text-align: right;\n",
       "    }\n",
       "</style>\n",
       "<table border=\"1\" class=\"dataframe\">\n",
       "  <thead>\n",
       "    <tr style=\"text-align: right;\">\n",
       "      <th></th>\n",
       "      <th>Unnamed: 0</th>\n",
       "      <th>0</th>\n",
       "    </tr>\n",
       "  </thead>\n",
       "  <tbody>\n",
       "    <tr>\n",
       "      <th>0</th>\n",
       "      <td>0</td>\n",
       "      <td>Stocks losses deepen as a key recession warnin...</td>\n",
       "    </tr>\n",
       "    <tr>\n",
       "      <th>1</th>\n",
       "      <td>1</td>\n",
       "      <td>RT @CallMeAhmjusAyn: The #economy.\\r\\n@FoxNews...</td>\n",
       "    </tr>\n",
       "    <tr>\n",
       "      <th>2</th>\n",
       "      <td>2</td>\n",
       "      <td>AP Explains: Is the US economy nearing a reces...</td>\n",
       "    </tr>\n",
       "    <tr>\n",
       "      <th>3</th>\n",
       "      <td>3</td>\n",
       "      <td>A @JobCreatorsUSA / https://t.co/JXEt7hQU4k su...</td>\n",
       "    </tr>\n",
       "    <tr>\n",
       "      <th>4</th>\n",
       "      <td>4</td>\n",
       "      <td>Who will stop mr. Mario Draghi and the ECB wit...</td>\n",
       "    </tr>\n",
       "  </tbody>\n",
       "</table>\n",
       "</div>"
      ],
      "text/plain": [
       "   Unnamed: 0                                                  0\n",
       "0           0  Stocks losses deepen as a key recession warnin...\n",
       "1           1  RT @CallMeAhmjusAyn: The #economy.\\r\\n@FoxNews...\n",
       "2           2  AP Explains: Is the US economy nearing a reces...\n",
       "3           3  A @JobCreatorsUSA / https://t.co/JXEt7hQU4k su...\n",
       "4           4  Who will stop mr. Mario Draghi and the ECB wit..."
      ]
     },
     "execution_count": 3,
     "metadata": {},
     "output_type": "execute_result"
    }
   ],
   "source": [
    "df = pd.read_csv(\"C:\\\\Users\\\\hsrak\\\\OneDrive\\\\Desktop\\\\April\\\\NLP_Online\\\\raw_tweets_economy.txt\", sep=\"\\t\")\n",
    "df.head()"
   ]
  },
  {
   "cell_type": "code",
   "execution_count": 4,
   "metadata": {},
   "outputs": [
    {
     "data": {
      "text/plain": [
       "(500, 2)"
      ]
     },
     "execution_count": 4,
     "metadata": {},
     "output_type": "execute_result"
    }
   ],
   "source": [
    "df.shape"
   ]
  },
  {
   "cell_type": "markdown",
   "metadata": {},
   "source": [
    "##Drop the column '0', rename column '1' to 'tweet_data'"
   ]
  },
  {
   "cell_type": "code",
   "execution_count": 5,
   "metadata": {},
   "outputs": [],
   "source": [
    "df.drop('Unnamed: 0', inplace=True, axis=1)"
   ]
  },
  {
   "cell_type": "code",
   "execution_count": 6,
   "metadata": {},
   "outputs": [
    {
     "data": {
      "text/plain": [
       "(500, 1)"
      ]
     },
     "execution_count": 6,
     "metadata": {},
     "output_type": "execute_result"
    }
   ],
   "source": [
    "df.shape"
   ]
  },
  {
   "cell_type": "code",
   "execution_count": 7,
   "metadata": {},
   "outputs": [
    {
     "data": {
      "text/html": [
       "<div>\n",
       "<style scoped>\n",
       "    .dataframe tbody tr th:only-of-type {\n",
       "        vertical-align: middle;\n",
       "    }\n",
       "\n",
       "    .dataframe tbody tr th {\n",
       "        vertical-align: top;\n",
       "    }\n",
       "\n",
       "    .dataframe thead th {\n",
       "        text-align: right;\n",
       "    }\n",
       "</style>\n",
       "<table border=\"1\" class=\"dataframe\">\n",
       "  <thead>\n",
       "    <tr style=\"text-align: right;\">\n",
       "      <th></th>\n",
       "      <th>0</th>\n",
       "    </tr>\n",
       "  </thead>\n",
       "  <tbody>\n",
       "    <tr>\n",
       "      <th>0</th>\n",
       "      <td>Stocks losses deepen as a key recession warnin...</td>\n",
       "    </tr>\n",
       "    <tr>\n",
       "      <th>1</th>\n",
       "      <td>RT @CallMeAhmjusAyn: The #economy.\\r\\n@FoxNews...</td>\n",
       "    </tr>\n",
       "    <tr>\n",
       "      <th>2</th>\n",
       "      <td>AP Explains: Is the US economy nearing a reces...</td>\n",
       "    </tr>\n",
       "    <tr>\n",
       "      <th>3</th>\n",
       "      <td>A @JobCreatorsUSA / https://t.co/JXEt7hQU4k su...</td>\n",
       "    </tr>\n",
       "    <tr>\n",
       "      <th>4</th>\n",
       "      <td>Who will stop mr. Mario Draghi and the ECB wit...</td>\n",
       "    </tr>\n",
       "  </tbody>\n",
       "</table>\n",
       "</div>"
      ],
      "text/plain": [
       "                                                   0\n",
       "0  Stocks losses deepen as a key recession warnin...\n",
       "1  RT @CallMeAhmjusAyn: The #economy.\\r\\n@FoxNews...\n",
       "2  AP Explains: Is the US economy nearing a reces...\n",
       "3  A @JobCreatorsUSA / https://t.co/JXEt7hQU4k su...\n",
       "4  Who will stop mr. Mario Draghi and the ECB wit..."
      ]
     },
     "execution_count": 7,
     "metadata": {},
     "output_type": "execute_result"
    }
   ],
   "source": [
    "df.head()"
   ]
  },
  {
   "cell_type": "markdown",
   "metadata": {},
   "source": [
    "Renaming the column"
   ]
  },
  {
   "cell_type": "code",
   "execution_count": 8,
   "metadata": {},
   "outputs": [
    {
     "data": {
      "text/html": [
       "<div>\n",
       "<style scoped>\n",
       "    .dataframe tbody tr th:only-of-type {\n",
       "        vertical-align: middle;\n",
       "    }\n",
       "\n",
       "    .dataframe tbody tr th {\n",
       "        vertical-align: top;\n",
       "    }\n",
       "\n",
       "    .dataframe thead th {\n",
       "        text-align: right;\n",
       "    }\n",
       "</style>\n",
       "<table border=\"1\" class=\"dataframe\">\n",
       "  <thead>\n",
       "    <tr style=\"text-align: right;\">\n",
       "      <th></th>\n",
       "      <th>tweet_data</th>\n",
       "    </tr>\n",
       "  </thead>\n",
       "  <tbody>\n",
       "    <tr>\n",
       "      <th>0</th>\n",
       "      <td>Stocks losses deepen as a key recession warnin...</td>\n",
       "    </tr>\n",
       "    <tr>\n",
       "      <th>1</th>\n",
       "      <td>RT @CallMeAhmjusAyn: The #economy.\\r\\n@FoxNews...</td>\n",
       "    </tr>\n",
       "    <tr>\n",
       "      <th>2</th>\n",
       "      <td>AP Explains: Is the US economy nearing a reces...</td>\n",
       "    </tr>\n",
       "    <tr>\n",
       "      <th>3</th>\n",
       "      <td>A @JobCreatorsUSA / https://t.co/JXEt7hQU4k su...</td>\n",
       "    </tr>\n",
       "    <tr>\n",
       "      <th>4</th>\n",
       "      <td>Who will stop mr. Mario Draghi and the ECB wit...</td>\n",
       "    </tr>\n",
       "  </tbody>\n",
       "</table>\n",
       "</div>"
      ],
      "text/plain": [
       "                                          tweet_data\n",
       "0  Stocks losses deepen as a key recession warnin...\n",
       "1  RT @CallMeAhmjusAyn: The #economy.\\r\\n@FoxNews...\n",
       "2  AP Explains: Is the US economy nearing a reces...\n",
       "3  A @JobCreatorsUSA / https://t.co/JXEt7hQU4k su...\n",
       "4  Who will stop mr. Mario Draghi and the ECB wit..."
      ]
     },
     "execution_count": 8,
     "metadata": {},
     "output_type": "execute_result"
    }
   ],
   "source": [
    "df = df.rename({'0':'tweet_data'}, axis=1)\n",
    "df.head()"
   ]
  },
  {
   "cell_type": "code",
   "execution_count": 9,
   "metadata": {},
   "outputs": [
    {
     "data": {
      "text/plain": [
       "array(['@panthera_s @mauldinecon #Americans expect the #economy to improve slightly in the near future.\\r\\n#consumer spending… https://t.co/t7B80NfWBW'],\n",
       "      dtype=object)"
      ]
     },
     "execution_count": 9,
     "metadata": {},
     "output_type": "execute_result"
    }
   ],
   "source": [
    "df.tweet_data.sample().values"
   ]
  },
  {
   "cell_type": "markdown",
   "metadata": {},
   "source": [
    "#### Get the tweets into a list, for easy text clean up and manipulation"
   ]
  },
  {
   "cell_type": "code",
   "execution_count": 10,
   "metadata": {},
   "outputs": [],
   "source": [
    "df_list = df.tweet_data.values"
   ]
  },
  {
   "cell_type": "code",
   "execution_count": 11,
   "metadata": {},
   "outputs": [
    {
     "data": {
      "text/plain": [
       "500"
      ]
     },
     "execution_count": 11,
     "metadata": {},
     "output_type": "execute_result"
    }
   ],
   "source": [
    "len(df_list)"
   ]
  },
  {
   "cell_type": "code",
   "execution_count": 12,
   "metadata": {
    "scrolled": true
   },
   "outputs": [
    {
     "data": {
      "text/plain": [
       "array(['Stocks losses deepen as a key recession warning surfaces @GOP #economy #fail #collapse #recession #gop #greed… https://t.co/F8kazAixUk',\n",
       "       \"RT @CallMeAhmjusAyn: The #economy.\\r\\n@FoxNews @realDonaldTrump \\r\\n#Trump is an ejit.\\r\\n#maga #TrumpTrain2020 #sheeple are idiot's.\\r\\n#farming #Trad…\",\n",
       "       'AP Explains: Is the US economy nearing a recession? \\r\\n#Business\\r\\n#Economy\\r\\n#Recession\\r\\n#TradeWar\\r\\n#China\\r\\n#EU… https://t.co/0jtsR2kSxi',\n",
       "       'A @JobCreatorsUSA / https://t.co/JXEt7hQU4k survey completed Tuesday, 56% rated the #economy as good or excellent,… https://t.co/j1XMiptADx',\n",
       "       'Who will stop mr. Mario Draghi and the ECB with this counterproductive course of money dumping / zero interests? It… https://t.co/eweIrVuOK0'],\n",
       "      dtype=object)"
      ]
     },
     "execution_count": 12,
     "metadata": {},
     "output_type": "execute_result"
    }
   ],
   "source": [
    "df_list[:5]"
   ]
  },
  {
   "cell_type": "markdown",
   "metadata": {},
   "source": [
    "The tweets contain - \n",
    "1. URLs\n",
    "2. Hashtags\n",
    "3. User handles\n",
    "4. 'RT'"
   ]
  },
  {
   "cell_type": "markdown",
   "metadata": {},
   "source": [
    "## Cleanup "
   ]
  },
  {
   "cell_type": "markdown",
   "metadata": {},
   "source": [
    "#### Normalizing the data "
   ]
  },
  {
   "cell_type": "code",
   "execution_count": 13,
   "metadata": {},
   "outputs": [],
   "source": [
    "tweets_lower = [txt.lower() for txt in df_list]"
   ]
  },
  {
   "cell_type": "code",
   "execution_count": 14,
   "metadata": {},
   "outputs": [
    {
     "data": {
      "text/plain": [
       "['stocks losses deepen as a key recession warning surfaces @gop #economy #fail #collapse #recession #gop #greed… https://t.co/f8kazaixuk',\n",
       " \"rt @callmeahmjusayn: the #economy.\\r\\n@foxnews @realdonaldtrump \\r\\n#trump is an ejit.\\r\\n#maga #trumptrain2020 #sheeple are idiot's.\\r\\n#farming #trad…\",\n",
       " 'ap explains: is the us economy nearing a recession? \\r\\n#business\\r\\n#economy\\r\\n#recession\\r\\n#tradewar\\r\\n#china\\r\\n#eu… https://t.co/0jtsr2ksxi',\n",
       " 'a @jobcreatorsusa / https://t.co/jxet7hqu4k survey completed tuesday, 56% rated the #economy as good or excellent,… https://t.co/j1xmiptadx',\n",
       " 'who will stop mr. mario draghi and the ecb with this counterproductive course of money dumping / zero interests? it… https://t.co/eweirvuok0']"
      ]
     },
     "execution_count": 14,
     "metadata": {},
     "output_type": "execute_result"
    }
   ],
   "source": [
    "tweets_lower[:5]"
   ]
  },
  {
   "cell_type": "markdown",
   "metadata": {},
   "source": [
    "#### Remove user handles, begin with '@'"
   ]
  },
  {
   "cell_type": "code",
   "execution_count": 15,
   "metadata": {},
   "outputs": [],
   "source": [
    "import re\n",
    "#re.sub(\"\\@\\w+\",\"\", \"@callmeahm jusayn: the #economy\")"
   ]
  },
  {
   "cell_type": "code",
   "execution_count": 16,
   "metadata": {},
   "outputs": [
    {
     "name": "stderr",
     "output_type": "stream",
     "text": [
      "<>:1: SyntaxWarning: invalid escape sequence '\\w'\n",
      "<>:1: SyntaxWarning: invalid escape sequence '\\w'\n",
      "C:\\Users\\hsrak\\AppData\\Local\\Temp\\ipykernel_144944\\3476010925.py:1: SyntaxWarning: invalid escape sequence '\\w'\n",
      "  tweets_noat = [re.sub(\"@\\w+\",\"\", txt) for txt in tweets_lower]\n"
     ]
    }
   ],
   "source": [
    "tweets_noat = [re.sub(\"@\\w+\",\"\", txt) for txt in tweets_lower]"
   ]
  },
  {
   "cell_type": "code",
   "execution_count": 17,
   "metadata": {},
   "outputs": [
    {
     "data": {
      "text/plain": [
       "['stocks losses deepen as a key recession warning surfaces  #economy #fail #collapse #recession #gop #greed… https://t.co/f8kazaixuk',\n",
       " \"rt : the #economy.\\r\\n  \\r\\n#trump is an ejit.\\r\\n#maga #trumptrain2020 #sheeple are idiot's.\\r\\n#farming #trad…\",\n",
       " 'ap explains: is the us economy nearing a recession? \\r\\n#business\\r\\n#economy\\r\\n#recession\\r\\n#tradewar\\r\\n#china\\r\\n#eu… https://t.co/0jtsr2ksxi',\n",
       " 'a  / https://t.co/jxet7hqu4k survey completed tuesday, 56% rated the #economy as good or excellent,… https://t.co/j1xmiptadx',\n",
       " 'who will stop mr. mario draghi and the ecb with this counterproductive course of money dumping / zero interests? it… https://t.co/eweirvuok0']"
      ]
     },
     "execution_count": 17,
     "metadata": {},
     "output_type": "execute_result"
    }
   ],
   "source": [
    "tweets_noat[:5]"
   ]
  },
  {
   "cell_type": "markdown",
   "metadata": {},
   "source": [
    "#### Remove URLs"
   ]
  },
  {
   "cell_type": "code",
   "execution_count": 18,
   "metadata": {},
   "outputs": [
    {
     "name": "stderr",
     "output_type": "stream",
     "text": [
      "<>:1: SyntaxWarning: invalid escape sequence '\\w'\n",
      "<>:1: SyntaxWarning: invalid escape sequence '\\w'\n",
      "C:\\Users\\hsrak\\AppData\\Local\\Temp\\ipykernel_144944\\399894764.py:1: SyntaxWarning: invalid escape sequence '\\w'\n",
      "  re.sub(\"\\w+://\\S+\",\"\", \"@Rahim this course rocks! http://rahimbaig.com/ai\")\n"
     ]
    },
    {
     "data": {
      "text/plain": [
       "'@Rahim this course rocks! '"
      ]
     },
     "execution_count": 18,
     "metadata": {},
     "output_type": "execute_result"
    }
   ],
   "source": [
    "re.sub(\"\\w+://\\S+\",\"\", \"@Rahim this course rocks! http://rahimbaig.com/ai\")"
   ]
  },
  {
   "cell_type": "code",
   "execution_count": 19,
   "metadata": {},
   "outputs": [
    {
     "name": "stderr",
     "output_type": "stream",
     "text": [
      "<>:1: SyntaxWarning: invalid escape sequence '\\w'\n",
      "<>:1: SyntaxWarning: invalid escape sequence '\\w'\n",
      "C:\\Users\\hsrak\\AppData\\Local\\Temp\\ipykernel_144944\\3381990314.py:1: SyntaxWarning: invalid escape sequence '\\w'\n",
      "  tweets_nourl = [re.sub(\"\\w+://\\S+\",\"\", twt) for twt in tweets_noat]\n"
     ]
    }
   ],
   "source": [
    "tweets_nourl = [re.sub(\"\\w+://\\S+\",\"\", twt) for twt in tweets_noat]"
   ]
  },
  {
   "cell_type": "code",
   "execution_count": 20,
   "metadata": {},
   "outputs": [
    {
     "data": {
      "text/plain": [
       "['stocks losses deepen as a key recession warning surfaces  #economy #fail #collapse #recession #gop #greed… ',\n",
       " \"rt : the #economy.\\r\\n  \\r\\n#trump is an ejit.\\r\\n#maga #trumptrain2020 #sheeple are idiot's.\\r\\n#farming #trad…\",\n",
       " 'ap explains: is the us economy nearing a recession? \\r\\n#business\\r\\n#economy\\r\\n#recession\\r\\n#tradewar\\r\\n#china\\r\\n#eu… ',\n",
       " 'a  /  survey completed tuesday, 56% rated the #economy as good or excellent,… ',\n",
       " 'who will stop mr. mario draghi and the ecb with this counterproductive course of money dumping / zero interests? it… ']"
      ]
     },
     "execution_count": 20,
     "metadata": {},
     "output_type": "execute_result"
    }
   ],
   "source": [
    "tweets_nourl[:5]"
   ]
  },
  {
   "cell_type": "code",
   "execution_count": 21,
   "metadata": {},
   "outputs": [
    {
     "data": {
      "text/plain": [
       "['rt : . has transformed (and expanded) the republican party, making it the party of blue collar working america…',\n",
       " 'rt : #lebanon #beirut #politics #economy #commerce #funny #daily #media #crazy #science #food\\r\\n',\n",
       " 'rt : . has transformed (and expanded) the republican party, making it the party of blue collar working america…',\n",
       " \"rt : rt.'s #facts #thread\\r\\n1). blames u.s. sanctions for #iran’s crumbling #economy. #blacklistirgc #corrupti…\",\n",
       " '#primeminister  commits to pumping 1.4$tr into the #economy of #india via #infrastructure projects .… ']"
      ]
     },
     "execution_count": 21,
     "metadata": {},
     "output_type": "execute_result"
    }
   ],
   "source": [
    "tweets_nourl[-5:]"
   ]
  },
  {
   "cell_type": "markdown",
   "metadata": {},
   "source": [
    "#### Extracting only the hashtags from the tweets - remember, we want to analyse the most common hashtags in the tweets"
   ]
  },
  {
   "cell_type": "code",
   "execution_count": 22,
   "metadata": {},
   "outputs": [
    {
     "name": "stderr",
     "output_type": "stream",
     "text": [
      "<>:1: SyntaxWarning: invalid escape sequence '\\w'\n",
      "<>:1: SyntaxWarning: invalid escape sequence '\\w'\n",
      "C:\\Users\\hsrak\\AppData\\Local\\Temp\\ipykernel_144944\\1344710272.py:1: SyntaxWarning: invalid escape sequence '\\w'\n",
      "  re.findall(\"#\\w+\",\"I love this #love #life and fun\")\n"
     ]
    },
    {
     "data": {
      "text/plain": [
       "['#love', '#life']"
      ]
     },
     "execution_count": 22,
     "metadata": {},
     "output_type": "execute_result"
    }
   ],
   "source": [
    "re.findall(\"#\\w+\",\"I love this #love #life and fun\")"
   ]
  },
  {
   "cell_type": "code",
   "execution_count": 23,
   "metadata": {},
   "outputs": [
    {
     "name": "stderr",
     "output_type": "stream",
     "text": [
      "<>:1: SyntaxWarning: invalid escape sequence '\\w'\n",
      "<>:1: SyntaxWarning: invalid escape sequence '\\w'\n",
      "C:\\Users\\hsrak\\AppData\\Local\\Temp\\ipykernel_144944\\3289847013.py:1: SyntaxWarning: invalid escape sequence '\\w'\n",
      "  hashtags = [re.findall('#\\w+',twt) for twt in tweets_nourl]\n"
     ]
    }
   ],
   "source": [
    "hashtags = [re.findall('#\\w+',twt) for twt in tweets_nourl]"
   ]
  },
  {
   "cell_type": "code",
   "execution_count": 24,
   "metadata": {},
   "outputs": [
    {
     "data": {
      "text/plain": [
       "[['#economy', '#fail', '#collapse', '#recession', '#gop', '#greed'],\n",
       " ['#economy',\n",
       "  '#trump',\n",
       "  '#maga',\n",
       "  '#trumptrain2020',\n",
       "  '#sheeple',\n",
       "  '#farming',\n",
       "  '#trad'],\n",
       " ['#business', '#economy', '#recession', '#tradewar', '#china', '#eu'],\n",
       " ['#economy'],\n",
       " []]"
      ]
     },
     "execution_count": 24,
     "metadata": {},
     "output_type": "execute_result"
    }
   ],
   "source": [
    "hashtags[:5]"
   ]
  },
  {
   "cell_type": "markdown",
   "metadata": {},
   "source": [
    "### combining all hastags"
   ]
  },
  {
   "cell_type": "code",
   "execution_count": 25,
   "metadata": {},
   "outputs": [],
   "source": [
    "#Declaring an empty list which will later contain all the hashtags\n",
    "all_hashtags = []"
   ]
  },
  {
   "cell_type": "code",
   "execution_count": 26,
   "metadata": {},
   "outputs": [],
   "source": [
    "for a in hashtags:\n",
    "    all_hashtags.extend(a)"
   ]
  },
  {
   "cell_type": "code",
   "execution_count": 27,
   "metadata": {},
   "outputs": [
    {
     "data": {
      "text/plain": [
       "['#economy', '#fail', '#collapse', '#recession', '#gop']"
      ]
     },
     "execution_count": 27,
     "metadata": {},
     "output_type": "execute_result"
    }
   ],
   "source": [
    "all_hashtags[:5]"
   ]
  },
  {
   "cell_type": "code",
   "execution_count": 28,
   "metadata": {},
   "outputs": [
    {
     "data": {
      "text/plain": [
       "1061"
      ]
     },
     "execution_count": 28,
     "metadata": {},
     "output_type": "execute_result"
    }
   ],
   "source": [
    "len(all_hashtags)"
   ]
  },
  {
   "cell_type": "markdown",
   "metadata": {},
   "source": [
    "#### Removing '#economy' from the data, as this is what the tweets are about"
   ]
  },
  {
   "cell_type": "code",
   "execution_count": 29,
   "metadata": {},
   "outputs": [],
   "source": [
    "#stop_contextual = ['#economy']"
   ]
  },
  {
   "cell_type": "markdown",
   "metadata": {},
   "source": [
    "#### Removing the contextual stopwords"
   ]
  },
  {
   "cell_type": "code",
   "execution_count": 30,
   "metadata": {},
   "outputs": [],
   "source": [
    "#all_hashtags = [tag for tag in all_hashtags if tag not in stop_contextual]"
   ]
  },
  {
   "cell_type": "code",
   "execution_count": 31,
   "metadata": {},
   "outputs": [
    {
     "data": {
      "text/plain": [
       "1061"
      ]
     },
     "execution_count": 31,
     "metadata": {},
     "output_type": "execute_result"
    }
   ],
   "source": [
    "len(all_hashtags)"
   ]
  },
  {
   "cell_type": "code",
   "execution_count": 32,
   "metadata": {},
   "outputs": [
    {
     "data": {
      "text/plain": [
       "['#economy', '#fail', '#collapse', '#recession', '#gop']"
      ]
     },
     "execution_count": 32,
     "metadata": {},
     "output_type": "execute_result"
    }
   ],
   "source": [
    "all_hashtags[:5]"
   ]
  },
  {
   "cell_type": "markdown",
   "metadata": {},
   "source": [
    "#### Using a counter to get the top hashtags"
   ]
  },
  {
   "cell_type": "code",
   "execution_count": 33,
   "metadata": {},
   "outputs": [],
   "source": [
    "from collections import Counter"
   ]
  },
  {
   "cell_type": "code",
   "execution_count": 34,
   "metadata": {},
   "outputs": [
    {
     "data": {
      "text/plain": [
       "Counter({'#economy': 246,\n",
       "         '#recession': 24,\n",
       "         '#india': 20,\n",
       "         '#business': 18,\n",
       "         '#hongkong': 17,\n",
       "         '#bloomberg': 15,\n",
       "         '#china': 12,\n",
       "         '#trump': 10,\n",
       "         '#markets': 9,\n",
       "         '#economics': 9,\n",
       "         '#infrastructure': 9,\n",
       "         '#world': 8,\n",
       "         '#primeminister': 8,\n",
       "         '#bitcoin': 7,\n",
       "         '#technology': 7,\n",
       "         '#politics': 7,\n",
       "         '#bjp': 7,\n",
       "         '#resistance': 7,\n",
       "         '#tradewar': 6,\n",
       "         '#finance': 6,\n",
       "         '#rttnews': 6,\n",
       "         '#government': 6,\n",
       "         '#stockmarket': 6,\n",
       "         '#trumpslump': 6,\n",
       "         '#tradewars': 6,\n",
       "         '#news': 5,\n",
       "         '#traitortrump': 5,\n",
       "         '#deficits': 5,\n",
       "         '#trumpslum': 5,\n",
       "         '#investing': 5,\n",
       "         '#global': 5,\n",
       "         '#investment': 4,\n",
       "         '#dogfood': 4,\n",
       "         '#sales': 4,\n",
       "         '#happy': 4,\n",
       "         '#cute': 4,\n",
       "         '#cr17': 4,\n",
       "         '#tonygeorgiades': 4,\n",
       "         '#fwdeklerk': 4,\n",
       "         '#armsdeal': 4,\n",
       "         '#corruption': 4,\n",
       "         '#visionmechatronics': 4,\n",
       "         '#lithium': 4,\n",
       "         '#batteries': 4,\n",
       "         '#liberate': 4,\n",
       "         '#media': 4,\n",
       "         '#uk': 4,\n",
       "         '#businesses': 4,\n",
       "         '#maga': 3,\n",
       "         '#trading': 3,\n",
       "         '#fx': 3,\n",
       "         '#ekonomi': 3,\n",
       "         '#inversion': 3,\n",
       "         '#network': 3,\n",
       "         '#weekend': 3,\n",
       "         '#software': 3,\n",
       "         '#dawnnews': 3,\n",
       "         '#pakistan': 3,\n",
       "         '#economi': 3,\n",
       "         '#gogreen': 3,\n",
       "         '#tourism': 3,\n",
       "         '#innovation': 3,\n",
       "         '#buhari': 3,\n",
       "         '#ban': 3,\n",
       "         '#westmidlands': 3,\n",
       "         '#safeguard': 3,\n",
       "         '#create': 3,\n",
       "         '#jobs': 3,\n",
       "         '#environment': 3,\n",
       "         '#lebanon': 3,\n",
       "         '#beirut': 3,\n",
       "         '#commerce': 3,\n",
       "         '#funny': 3,\n",
       "         '#daily': 3,\n",
       "         '#crazy': 3,\n",
       "         '#science': 3,\n",
       "         '#food': 3,\n",
       "         '#icis': 3,\n",
       "         '#themarket': 3,\n",
       "         '#fertilizer': 3,\n",
       "         '#lloydsoflondon': 3,\n",
       "         '#cyberattack': 3,\n",
       "         '#facts': 3,\n",
       "         '#thread': 3,\n",
       "         '#iran': 3,\n",
       "         '#blacklistirgc': 3,\n",
       "         '#trumptrain2020': 2,\n",
       "         '#sheeple': 2,\n",
       "         '#farming': 2,\n",
       "         '#futures': 2,\n",
       "         '#trade': 2,\n",
       "         '#earnings': 2,\n",
       "         '#currency': 2,\n",
       "         '#forex': 2,\n",
       "         '#thursday': 2,\n",
       "         '#sanayi': 2,\n",
       "         '#berniesanders': 2,\n",
       "         '#bernie': 2,\n",
       "         '#americanairlines': 2,\n",
       "         '#united': 2,\n",
       "         '#firstclass': 2,\n",
       "         '#unitedstates': 2,\n",
       "         '#economicslowdown': 2,\n",
       "         '#amazon': 2,\n",
       "         '#dowjones': 2,\n",
       "         '#disasters': 2,\n",
       "         '#conflict': 2,\n",
       "         '#drought': 2,\n",
       "         '#smes': 2,\n",
       "         '#gsm': 2,\n",
       "         '#africa': 2,\n",
       "         '#stocks': 2,\n",
       "         '#recession2019': 2,\n",
       "         '#happyrakshabandhan': 2,\n",
       "         '#rakshabandhan2019': 2,\n",
       "         '#happyindependenceday': 2,\n",
       "         '#indiaindependenceday': 2,\n",
       "         '#energy': 2,\n",
       "         '#freedom': 2,\n",
       "         '#trumprecession': 2,\n",
       "         '#depa': 2,\n",
       "         '#cryptocurrency': 2,\n",
       "         '#digital': 2,\n",
       "         '#usa': 2,\n",
       "         '#president': 2,\n",
       "         '#pm': 2,\n",
       "         '#modi': 2,\n",
       "         '#announces': 2,\n",
       "         '#outlay': 2,\n",
       "         '#rs': 2,\n",
       "         '#lakh': 2,\n",
       "         '#crores': 2,\n",
       "         '#roadmap': 2,\n",
       "         '#trillion': 2,\n",
       "         '#म': 2,\n",
       "         '#economysquare': 2,\n",
       "         '#chinese': 2,\n",
       "         '#german': 2,\n",
       "         '#hardball': 2,\n",
       "         '#t': 2,\n",
       "         '#brexit': 2,\n",
       "         '#reces': 2,\n",
       "         '#internationaltrade': 2,\n",
       "         '#minimumwage': 2,\n",
       "         '#tax': 2,\n",
       "         '#hemp': 2,\n",
       "         '#nigeria': 2,\n",
       "         '#medium': 2,\n",
       "         '#blog': 2,\n",
       "         '#data': 2,\n",
       "         '#m': 2,\n",
       "         '#fail': 1,\n",
       "         '#collapse': 1,\n",
       "         '#gop': 1,\n",
       "         '#greed': 1,\n",
       "         '#trad': 1,\n",
       "         '#eu': 1,\n",
       "         '#learnenglish': 1,\n",
       "         '#businessenglish': 1,\n",
       "         '#floods2019': 1,\n",
       "         '#conversationsdailynews': 1,\n",
       "         '#truthoftheday': 1,\n",
       "         '#music': 1,\n",
       "         '#singer': 1,\n",
       "         '#invertedyieldcurve': 1,\n",
       "         '#472': 1,\n",
       "         '#134': 1,\n",
       "         '#140': 1,\n",
       "         '#785': 1,\n",
       "         '#tollways': 1,\n",
       "         '#travel': 1,\n",
       "         '#fintech': 1,\n",
       "         '#company': 1,\n",
       "         '#altcoins': 1,\n",
       "         '#retweet': 1,\n",
       "         '#poverty': 1,\n",
       "         '#ows': 1,\n",
       "         '#teaparty': 1,\n",
       "         '#experience': 1,\n",
       "         '#stocksdrop': 1,\n",
       "         '#üretim': 1,\n",
       "         '#consumers': 1,\n",
       "         '#generationz': 1,\n",
       "         '#yield': 1,\n",
       "         '#curve': 1,\n",
       "         '#cash': 1,\n",
       "         '#uber': 1,\n",
       "         '#lyft': 1,\n",
       "         '#rideshare': 1,\n",
       "         '#taxi': 1,\n",
       "         '#cryptocurrencynews': 1,\n",
       "         '#blockchainnews': 1,\n",
       "         '#bitcoinnews': 1,\n",
       "         '#imalat': 1,\n",
       "         '#hizmet': 1,\n",
       "         '#pmi': 1,\n",
       "         '#ingiltere': 1,\n",
       "         '#wednesdayafternoon': 1,\n",
       "         '#wednesdaymotivation': 1,\n",
       "         '#wedne': 1,\n",
       "         '#us': 1,\n",
       "         '#macroecon': 1,\n",
       "         '#treasurynote': 1,\n",
       "         '#tnote': 1,\n",
       "         '#bond': 1,\n",
       "         '#warning': 1,\n",
       "         '#econrecession': 1,\n",
       "         '#leasefoundation': 1,\n",
       "         '#equipmentfinance': 1,\n",
       "         '#book': 1,\n",
       "         '#game': 1,\n",
       "         '#bankers': 1,\n",
       "         '#nevertrumpers': 1,\n",
       "         '#antiamerican': 1,\n",
       "         '#2020elections': 1,\n",
       "         '#theinfiniteage': 1,\n",
       "         '#dowdrop': 1,\n",
       "         '#stockmarketcrash': 1,\n",
       "         '#bondmarket': 1,\n",
       "         '#statebank': 1,\n",
       "         '#wages': 1,\n",
       "         '#productivity': 1,\n",
       "         '#winning': 1,\n",
       "         '#maga2020': 1,\n",
       "         '#trumpisafraud': 1,\n",
       "         '#huawei': 1,\n",
       "         '#evidence': 1,\n",
       "         '#development': 1,\n",
       "         '#outcomes': 1,\n",
       "         '#conservative': 1,\n",
       "         '#snowflake': 1,\n",
       "         '#family': 1,\n",
       "         '#religion': 1,\n",
       "         '#hongkongairport': 1,\n",
       "         '#2019': 1,\n",
       "         '#sensex': 1,\n",
       "         '#nifty': 1,\n",
       "         '#yesbank': 1,\n",
       "         '#xenophobic': 1,\n",
       "         '#xauusd': 1,\n",
       "         '#fxtrading': 1,\n",
       "         '#topdownapproach': 1,\n",
       "         '#support': 1,\n",
       "         '#country': 1,\n",
       "         '#ecofriendly': 1,\n",
       "         '#eco': 1,\n",
       "         '#e': 1,\n",
       "         '#scotland': 1,\n",
       "         '#challenges': 1,\n",
       "         '#intelligence': 1,\n",
       "         '#digitization': 1,\n",
       "         '#futureofwork': 1,\n",
       "         '#ai': 1,\n",
       "         '#ml': 1,\n",
       "         '#datascience': 1,\n",
       "         '#robotics': 1,\n",
       "         '#healthtech': 1,\n",
       "         '#drones': 1,\n",
       "         '#4ir': 1,\n",
       "         '#820': 1,\n",
       "         '#223': 1,\n",
       "         '#567': 1,\n",
       "         '#840': 1,\n",
       "         '#presidenttrump': 1,\n",
       "         '#crown': 1,\n",
       "         '#peterdruckerforum': 1,\n",
       "         '#linkedin': 1,\n",
       "         '#collaborationeconomy': 1,\n",
       "         '#retail': 1,\n",
       "         '#singapore': 1,\n",
       "         '#267': 1,\n",
       "         '#537': 1,\n",
       "         '#lla': 1,\n",
       "         '#smallbusiness': 1,\n",
       "         '#543': 1,\n",
       "         '#american': 1,\n",
       "         '#fedex': 1,\n",
       "         '#recruitertwitter': 1,\n",
       "         '#samp': 1,\n",
       "         '#marketscreener': 1,\n",
       "         '#southafrica': 1,\n",
       "         '#weak': 1,\n",
       "         '#nseexpoforum': 1,\n",
       "         '#satellites': 1,\n",
       "         '#space': 1,\n",
       "         '#belarus': 1,\n",
       "         '#militarily': 1,\n",
       "         '#israel': 1,\n",
       "         '#strategi': 1,\n",
       "         '#schroedingerstarrifs': 1,\n",
       "         '#inequality': 1,\n",
       "         '#incompetent': 1,\n",
       "         '#cannabis': 1,\n",
       "         '#cbd': 1,\n",
       "         '#army': 1,\n",
       "         '#leicester': 1,\n",
       "         '#leicestershire': 1,\n",
       "         '#eastmindlands': 1,\n",
       "         '#women': 1,\n",
       "         '#infoblaze': 1,\n",
       "         '#bigdata': 1,\n",
       "         '#gdp': 1,\n",
       "         '#financial': 1,\n",
       "         '#indonesia': 1,\n",
       "         '#jammuandkashmir': 1,\n",
       "         '#donaldtrump': 1,\n",
       "         '#serbia': 1,\n",
       "         '#gfdi': 1,\n",
       "         '#road': 1,\n",
       "         '#rail': 1,\n",
       "         '#ukeconomy': 1,\n",
       "         '#morganstanley': 1,\n",
       "         '#chinaus': 1,\n",
       "         '#işsizlik': 1,\n",
       "         '#istihdam': 1,\n",
       "         '#employment': 1,\n",
       "         '#304': 1,\n",
       "         '#284': 1,\n",
       "         '#lakeerie': 1,\n",
       "         '#future': 1,\n",
       "         '#cleanwater': 1,\n",
       "         '#publichealth': 1,\n",
       "         '#crowdfunding': 1,\n",
       "         '#realestate': 1,\n",
       "         '#smart': 1,\n",
       "         '#transition': 1,\n",
       "         '#netzero': 1,\n",
       "         '#unions': 1,\n",
       "         '#communities': 1,\n",
       "         '#hair_fuhrer': 1,\n",
       "         '#rats_ass': 1,\n",
       "         '#farmers': 1,\n",
       "         '#himself': 1,\n",
       "         '#wealthy_welfare_queen_donor': 1,\n",
       "         '#maine': 1,\n",
       "         '#hungary': 1,\n",
       "         '#deficit': 1,\n",
       "         '#balance': 1,\n",
       "         '#521': 1,\n",
       "         '#241': 1,\n",
       "         '#416': 1,\n",
       "         '#americans': 1,\n",
       "         '#consumer': 1,\n",
       "         '#pmmodi': 1,\n",
       "         '#sitharaman': 1,\n",
       "         '#financeministry': 1,\n",
       "         '#capitalism': 1,\n",
       "         '#socialism': 1,\n",
       "         '#socialistanyday': 1,\n",
       "         '#uae': 1,\n",
       "         '#dubai': 1,\n",
       "         '#dxb': 1,\n",
       "         '#money': 1,\n",
       "         '#idiot': 1,\n",
       "         '#itstheeconomystupid': 1,\n",
       "         '#enterprise': 1,\n",
       "         '#zepak': 1,\n",
       "         '#health': 1,\n",
       "         '#trumponomics': 1,\n",
       "         '#republiconomics': 1,\n",
       "         '#bolsa': 1,\n",
       "         '#politicians': 1,\n",
       "         '#bureaucracy': 1,\n",
       "         '#breaking': 1,\n",
       "         '#uzbekistan': 1,\n",
       "         '#esp': 1,\n",
       "         '#msn': 1,\n",
       "         '#ニュース': 1,\n",
       "         '#政治': 1,\n",
       "         '#経済': 1,\n",
       "         '#jamjamtv': 1,\n",
       "         '#nikkei': 1,\n",
       "         '#essay': 1,\n",
       "         '#corrup': 1,\n",
       "         '#wrecking': 1,\n",
       "         '#treasurybond': 1,\n",
       "         '#in': 1,\n",
       "         '#federalreserve': 1,\n",
       "         '#currencytrading': 1,\n",
       "         '#beltandroad': 1,\n",
       "         '#671': 1,\n",
       "         '#50': 1,\n",
       "         '#131': 1,\n",
       "         '#2018': 1,\n",
       "         '#financialcrisis': 1,\n",
       "         '#wallstreet': 1,\n",
       "         '#dow': 1,\n",
       "         '#corrupti': 1})"
      ]
     },
     "execution_count": 34,
     "metadata": {},
     "output_type": "execute_result"
    }
   ],
   "source": [
    "counts_hashtags = Counter(all_hashtags)\n",
    "counts_hashtags"
   ]
  },
  {
   "cell_type": "code",
   "execution_count": 35,
   "metadata": {},
   "outputs": [
    {
     "data": {
      "text/plain": [
       "388"
      ]
     },
     "execution_count": 35,
     "metadata": {},
     "output_type": "execute_result"
    }
   ],
   "source": [
    "len(counts_hashtags)"
   ]
  },
  {
   "cell_type": "code",
   "execution_count": 36,
   "metadata": {
    "scrolled": true
   },
   "outputs": [
    {
     "data": {
      "text/plain": [
       "[('#economy', 246),\n",
       " ('#recession', 24),\n",
       " ('#india', 20),\n",
       " ('#business', 18),\n",
       " ('#hongkong', 17),\n",
       " ('#bloomberg', 15),\n",
       " ('#china', 12),\n",
       " ('#trump', 10),\n",
       " ('#markets', 9),\n",
       " ('#economics', 9)]"
      ]
     },
     "execution_count": 36,
     "metadata": {},
     "output_type": "execute_result"
    }
   ],
   "source": [
    "counts_hashtags.most_common(10)"
   ]
  },
  {
   "cell_type": "markdown",
   "metadata": {},
   "source": [
    "#### Plotting the top 10 hashtags"
   ]
  },
  {
   "cell_type": "code",
   "execution_count": 37,
   "metadata": {},
   "outputs": [],
   "source": [
    "import matplotlib.pyplot as plt"
   ]
  },
  {
   "cell_type": "code",
   "execution_count": 38,
   "metadata": {},
   "outputs": [],
   "source": [
    "map = counts_hashtags.most_common(10)"
   ]
  },
  {
   "cell_type": "code",
   "execution_count": 39,
   "metadata": {},
   "outputs": [],
   "source": [
    "map1 = {term:cnt for term,cnt in map} # creating the dic "
   ]
  },
  {
   "cell_type": "code",
   "execution_count": 40,
   "metadata": {},
   "outputs": [
    {
     "data": {
      "text/plain": [
       "['#economy',\n",
       " '#recession',\n",
       " '#india',\n",
       " '#business',\n",
       " '#hongkong',\n",
       " '#bloomberg',\n",
       " '#china',\n",
       " '#trump',\n",
       " '#markets',\n",
       " '#economics']"
      ]
     },
     "execution_count": 40,
     "metadata": {},
     "output_type": "execute_result"
    }
   ],
   "source": [
    "list(map1.keys())"
   ]
  },
  {
   "cell_type": "code",
   "execution_count": 41,
   "metadata": {},
   "outputs": [
    {
     "data": {
      "text/plain": [
       "[246, 24, 20, 18, 17, 15, 12, 10, 9, 9]"
      ]
     },
     "execution_count": 41,
     "metadata": {},
     "output_type": "execute_result"
    }
   ],
   "source": [
    "list(map1.values())"
   ]
  },
  {
   "cell_type": "code",
   "execution_count": 42,
   "metadata": {},
   "outputs": [
    {
     "data": {
      "image/png": "[encoded data removed]",
      "text/plain": [
       "<Figure size 640x480 with 1 Axes>"
      ]
     },
     "metadata": {},
     "output_type": "display_data"
    }
   ],
   "source": [
    "plt.barh(list(map1.keys()), list(map1.values()), color=\"red\")\n",
    "plt.show()"
   ]
  }
 ],
 "metadata": {
  "kernelspec": {
   "display_name": "Python 3",
   "language": "python",
   "name": "python3"
  },
  "language_info": {
   "codemirror_mode": {
    "name": "ipython",
    "version": 3
   },
   "file_extension": ".py",
   "mimetype": "text/x-python",
   "name": "python",
   "nbconvert_exporter": "python",
   "pygments_lexer": "ipython3",
   "version": "3.12.2"
  }
 },
 "nbformat": 4,
 "nbformat_minor": 2
}
